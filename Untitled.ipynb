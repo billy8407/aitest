{
 "cells": [
  {
   "cell_type": "code",
   "execution_count": 15,
   "metadata": {},
   "outputs": [
    {
     "name": "stdout",
     "output_type": "stream",
     "text": [
      "['j', 'u', 'n', 'y', 'i', 'a', 'c', 'a', 'd', 'e', 'm', 'y']\n",
      "ymedacaiynuj\n"
     ]
    }
   ],
   "source": [
    "a=\"junyiacademy\"\n",
    "ax=[]\n",
    "for aa in a:\n",
    "    ax.append(aa)\n",
    "print(ax)    \n",
    "ax.reverse()\n",
    "axx=''.join(ax)\n",
    "print(axx)    "
   ]
  },
  {
   "cell_type": "code",
   "execution_count": 18,
   "metadata": {},
   "outputs": [
    {
     "name": "stdout",
     "output_type": "stream",
     "text": [
      "15\n",
      "9\n"
     ]
    }
   ],
   "source": [
    "x=int(input())\n",
    "ans=0\n",
    "for i in range(1,x+1,1):\n",
    "    if((i%3==0 and i%5!=0) or (i%5==0 and i%3!=0)):\n",
    "        c=0\n",
    "    else:\n",
    "        c=1\n",
    "    ans+=c\n",
    "print(ans)    \n",
    "        "
   ]
  },
  {
   "cell_type": "code",
   "execution_count": null,
   "metadata": {},
   "outputs": [],
   "source": []
  }
 ],
 "metadata": {
  "kernelspec": {
   "display_name": "Python 3",
   "language": "python",
   "name": "python3"
  },
  "language_info": {
   "codemirror_mode": {
    "name": "ipython",
    "version": 3
   },
   "file_extension": ".py",
   "mimetype": "text/x-python",
   "name": "python",
   "nbconvert_exporter": "python",
   "pygments_lexer": "ipython3",
   "version": "3.6.4"
  }
 },
 "nbformat": 4,
 "nbformat_minor": 2
}
